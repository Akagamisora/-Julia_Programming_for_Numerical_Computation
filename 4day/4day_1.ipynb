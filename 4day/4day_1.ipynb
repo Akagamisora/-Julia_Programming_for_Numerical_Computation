{
 "cells": [
  {
   "cell_type": "markdown",
   "metadata": {},
   "source": [
    "## 4.1"
   ]
  },
  {
   "cell_type": "code",
   "execution_count": 1,
   "metadata": {},
   "outputs": [
    {
     "data": {
      "text/plain": [
       "make_H (generic function with 1 method)"
      ]
     },
     "execution_count": 1,
     "metadata": {},
     "output_type": "execute_result"
    }
   ],
   "source": [
    "function make_H(N,L,V)\n",
    "    Δx=L/(N+1)\n",
    "    H=zeros(Float64,N,N)\n",
    "    for i=1:N\n",
    "        x=i*Δx\n",
    "        H[i,i]=V(x)\n",
    "\n",
    "        j=i+1\n",
    "        dij=-1/Δx^2\n",
    "        if 1≤j≤N\n",
    "            H[i,j]+=dij\n",
    "        end\n",
    "        \n",
    "        j=i\n",
    "        dij=2/Δx^2\n",
    "        if 1≤j≤N\n",
    "            H[i,j]+=dij\n",
    "        end\n",
    "\n",
    "        j=i-1\n",
    "        dij=-1/Δx^2\n",
    "        if 1≤j≤N\n",
    "            H[i,j]+=dij\n",
    "        end\n",
    "    end\n",
    "    return H\n",
    "end"
   ]
  },
  {
   "cell_type": "code",
   "execution_count": 2,
   "metadata": {},
   "outputs": [],
   "source": [
    "using LinearAlgebra"
   ]
  },
  {
   "cell_type": "code",
   "execution_count": 4,
   "metadata": {},
   "outputs": [],
   "source": [
    "using Plots"
   ]
  },
  {
   "cell_type": "code",
   "execution_count": 6,
   "metadata": {},
   "outputs": [
    {
     "name": "stdout",
     "output_type": "stream",
     "text": [
      "9.869604401089358\t9.869596300201396\n"
     ]
    }
   ],
   "source": [
    "function test()\n",
    "    V(x)=0\n",
    "    N=1000\n",
    "    L=1\n",
    "    H=make_H(N,L,V)\n",
    "    e,v=eigen(H)\n",
    "    e0=zeros(Float64,N)\n",
    "    for n=1:N\n",
    "        e0[n]=n^2*π^2/L^2\n",
    "    end\n",
    "    plot(1:N,[e,e0],\n",
    "        labels=[\"Numerical result\" \"Analytical result\"],\n",
    "        xlabel=\"n\",\n",
    "        ylabel=\"energy\")\n",
    "        savefig(\"eigen.png\")\n",
    "        println(e0[1],\"\\t\",e[1])\n",
    "end\n",
    "test()"
   ]
  },
  {
   "cell_type": "code",
   "execution_count": 11,
   "metadata": {},
   "outputs": [],
   "source": [
    "function test2()\n",
    "    V(x) = 0\n",
    "    N = 1000\n",
    "    L = 1\n",
    "    H = make_H(N,L,V)\n",
    "    e,v = eigen(H)\n",
    "\n",
    "    Δx = L/(N+1)\n",
    "    xs = zeros(Float64,N)\n",
    "    ψ0 = zeros(Float64,N)\n",
    "    ψ250 = similar(ψ0)\n",
    "    n = 1\n",
    "    m = 250\n",
    "    for i=1:N\n",
    "        x = i*Δx\n",
    "        xs[i] = x\n",
    "        ψ0[i] = sqrt(2/L)*sin(x*n*π/L)\n",
    "        ψ250[i] = sqrt(2/L)*sin(x*m*π/L)\n",
    "    end\n",
    "    coeff = 1/sqrt(Δx)\n",
    "\n",
    "    plot(xs,coeff*v[:,n],label=\"Numerical result n=1\",xlabel=\"x\",ylabel=\"psi(x)\")\n",
    "    plot!(xs,coeff*v[:,m],label=\"Numerical result n=250\",xlabel=\"x\",ylabel=\"psi(x)\")\n",
    "    plot!(xs,ψ0,label=\"Analytical result n=1\",xlabel=\"x\",ylabel=\"psi(x)\")\n",
    "    plot!(xs,ψ250,label=\"Analytical result n=250\",xlabel=\"x\",ylabel=\"psi(x)\")\n",
    "    savefig(\"psi.png\")\n",
    "end\n",
    "test2()"
   ]
  },
  {
   "cell_type": "code",
   "execution_count": 10,
   "metadata": {},
   "outputs": [],
   "source": [
    "function test2()\n",
    "    V(x) = 0\n",
    "    N = 1000\n",
    "    L = 1\n",
    "    H = make_H(N,L,V)\n",
    "    e,v = eigen(H)\n",
    "    \n",
    "    Δx = L/(N+1)\n",
    "    xs = zeros(Float64,N)\n",
    "    ψ0 = zeros(Float64,N)\n",
    "    ψ250 = similar(ψ0)\n",
    "    n = 1\n",
    "    m = 250\n",
    "    for i=1:N\n",
    "        x = i*Δx\n",
    "        xs[i] = x\n",
    "        ψ0[i] = sqrt(2/L)*sin(x*n*π/L)\n",
    "        ψ250[i] = sqrt(2/L)*sin(x*m*π/L)\n",
    "    end\n",
    "    coeff = 1/sqrt(Δx)\n",
    "    \n",
    "    plot(xs,coeff*v[:,n],label=\"Numerical result n=1\",xlabel=\"x\",ylabel=\"psi(x)\")\n",
    "    plot!(xs,ψ0,label=\"Analytical result n=1\",xlabel=\"x\",ylabel=\"psi(x)\")\n",
    "    plot!(xs,coeff*v[:,m],label=\"Numerical result n=250\",xlabel=\"x\",ylabel=\"psi(x)\")\n",
    "    plot!(xs,ψ250,label=\"Analytical result n=250\",xlabel=\"x\",ylabel=\"psi(x)\")\n",
    "    savefig(\"psi.png\")\n",
    "end\n",
    "test2()"
   ]
  },
  {
   "cell_type": "code",
   "execution_count": 12,
   "metadata": {},
   "outputs": [
    {
     "data": {
      "text/plain": [
       "calc_vq (generic function with 1 method)"
      ]
     },
     "execution_count": 12,
     "metadata": {},
     "output_type": "execute_result"
    }
   ],
   "source": [
    "function calc_vq(q,ξ,V0)\n",
    "    vq=sqrt(π*ξ^2)*exp(-q^2*ξ^2/4)\n",
    "    return vq\n",
    "end"
   ]
  },
  {
   "cell_type": "code",
   "execution_count": 19,
   "metadata": {},
   "outputs": [
    {
     "data": {
      "text/plain": [
       "calc_Vkkp (generic function with 1 method)"
      ]
     },
     "execution_count": 19,
     "metadata": {},
     "output_type": "execute_result"
    }
   ],
   "source": [
    "function calc_Vkkp(k,kp,L,ξ,x0,V0)\n",
    "    q1=k-kp\n",
    "    vq1=calc_vq(q1,ξ,V0)\n",
    "    q2=k+kp\n",
    "    vq2=calc_vq(q2,ξ,V0)\n",
    "    Vkkp=(V0/L)*(cos(q1*x0)*vq1-cos(q2*x0)*vq2)\n",
    "    return Vkkp\n",
    "end"
   ]
  },
  {
   "cell_type": "code",
   "execution_count": 20,
   "metadata": {},
   "outputs": [
    {
     "data": {
      "text/plain": [
       "make_Hk (generic function with 1 method)"
      ]
     },
     "execution_count": 20,
     "metadata": {},
     "output_type": "execute_result"
    }
   ],
   "source": [
    "function make_Hk(N,L,ξ,x0,V0)\n",
    "    mat_Hk = zeros(Float64,N,N)\n",
    "    for n in 1:N\n",
    "        k = n*π/L\n",
    "        for np in 1:N\n",
    "            if n == np\n",
    "                v = k^2\n",
    "            else\n",
    "                v = 0\n",
    "            end\n",
    "            kp = np*π/L\n",
    "            Vkkp = calc_Vkkp(k,kp,L,ξ,x0,V0)\n",
    "            v += Vkkp\n",
    "            mat_Hk[n,np] = v\n",
    "        end\n",
    "    end\n",
    "    return mat_Hk\n",
    "end"
   ]
  },
  {
   "cell_type": "code",
   "execution_count": 21,
   "metadata": {},
   "outputs": [
    {
     "data": {
      "text/plain": [
       "calc_psi (generic function with 1 method)"
      ]
     },
     "execution_count": 21,
     "metadata": {},
     "output_type": "execute_result"
    }
   ],
   "source": [
    "function calc_psi(cn,x,L)\n",
    "    nmax = length(cn)\n",
    "    psi = 0\n",
    "    for n=1:nmax\n",
    "        kn = n*π/L\n",
    "        psi += cn[n]*sin(kn*x)\n",
    "    end\n",
    "    return psi*sqrt(2/L)\n",
    "end"
   ]
  },
  {
   "cell_type": "code",
   "execution_count": 22,
   "metadata": {},
   "outputs": [
    {
     "data": {
      "text/plain": [
       "momentumspace (generic function with 1 method)"
      ]
     },
     "execution_count": 22,
     "metadata": {},
     "output_type": "execute_result"
    }
   ],
   "source": [
    "function momentumspace(N,L,ξ,x0,V0)\n",
    "    Hk = make_Hk(N,L,ξ,x0,V0)\n",
    "    ep,bn = eigen(Hk)\n",
    "    xs = range(0,L,length=N)\n",
    "    psi = zeros(Float64,N)\n",
    "    n = 1\n",
    "    for (i,x) in enumerate(xs)\n",
    "        psi[i]  =calc_psi(bn[:,n],x,L)\n",
    "    end\n",
    "    plot(xs,psi,label=\"Numerical result in momentum space: n=1\", xlabel=\"x\",ylabel=\"psi(x)\")\n",
    "    savefig(\"momu.pdf\")\n",
    "    return\n",
    "end"
   ]
  },
  {
   "cell_type": "code",
   "execution_count": 23,
   "metadata": {},
   "outputs": [],
   "source": [
    "N = 1000\n",
    "L = 10\n",
    "ξ = 1\n",
    "x0 = L/2\n",
    "V0 = 1\n",
    "\n",
    "momentumspace(N,L,ξ,x0,V0)"
   ]
  },
  {
   "cell_type": "code",
   "execution_count": 24,
   "metadata": {},
   "outputs": [
    {
     "data": {
      "text/plain": [
       "gaussV (generic function with 1 method)"
      ]
     },
     "execution_count": 24,
     "metadata": {},
     "output_type": "execute_result"
    }
   ],
   "source": [
    "function gaussV(x,ξ,x0,V0)\n",
    "    V0*exp(-(x-x0)^2/ξ^2)\n",
    "end"
   ]
  },
  {
   "cell_type": "code",
   "execution_count": 26,
   "metadata": {},
   "outputs": [
    {
     "name": "stdout",
     "output_type": "stream",
     "text": [
      "[0.3318732019153381, 0.4445184018941452, 1.1891596002955234, 1.711703103024328, 2.6885089824996653, 3.7252411323786125, 5.023736585633207, 6.495898312608702, 8.174847015417331, 10.048398020833162]\n",
      "[0.3318740815369017, 0.44451985491236623, 1.1891669770624456, 1.7117244036279688, 2.688559578455572, 3.7253467453719855, 5.023931236271939, 6.496230600508955, 8.175378836500212, 10.049208513174639]\n"
     ]
    }
   ],
   "source": [
    "V(x) = gaussV(x,ξ,x0,V0)\n",
    "Hreal = make_H(N,L,V)\n",
    "e,v = eigen(Hreal)\n",
    "println(e[1:10])\n",
    "Hk =  make_Hk(N,L,ξ,x0,V0)\n",
    "e,v = eigen(Hk)\n",
    "println(e[1:10])"
   ]
  },
  {
   "cell_type": "markdown",
   "metadata": {},
   "source": []
  }
 ],
 "metadata": {
  "kernelspec": {
   "display_name": "Julia 1.8.0",
   "language": "julia",
   "name": "julia-1.8"
  },
  "language_info": {
   "file_extension": ".jl",
   "mimetype": "application/julia",
   "name": "julia",
   "version": "1.8.0"
  },
  "orig_nbformat": 4
 },
 "nbformat": 4,
 "nbformat_minor": 2
}
