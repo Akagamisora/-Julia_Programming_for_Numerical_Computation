{
 "cells": [
  {
   "cell_type": "markdown",
   "metadata": {},
   "source": [
    "## 4.1"
   ]
  },
  {
   "cell_type": "code",
   "execution_count": 1,
   "metadata": {},
   "outputs": [
    {
     "data": {
      "text/plain": [
       "make_H (generic function with 1 method)"
      ]
     },
     "execution_count": 1,
     "metadata": {},
     "output_type": "execute_result"
    }
   ],
   "source": [
    "function make_H(N,L,V)\n",
    "    Δx=L/(N+1)\n",
    "    H=zeros(Float64,N,N)\n",
    "    for i=1:N\n",
    "        x=i*Δx\n",
    "        H[i,i]=V(x)\n",
    "\n",
    "        j=i+1\n",
    "        dij=-1/Δx^2\n",
    "        if 1≤j≤N\n",
    "            H[i,j]+=dij\n",
    "        end\n",
    "        \n",
    "        j=i\n",
    "        dij=2/Δx^2\n",
    "        if 1≤j≤N\n",
    "            H[i,j]+=dij\n",
    "        end\n",
    "\n",
    "        j=i-1\n",
    "        dij=-1/Δx^2\n",
    "        if 1≤j≤N\n",
    "            H[i,j]+=dij\n",
    "        end\n",
    "    end\n",
    "    return H\n",
    "end"
   ]
  },
  {
   "cell_type": "code",
   "execution_count": 2,
   "metadata": {},
   "outputs": [],
   "source": [
    "using LinearAlgebra"
   ]
  },
  {
   "cell_type": "code",
   "execution_count": 4,
   "metadata": {},
   "outputs": [],
   "source": [
    "using Plots"
   ]
  },
  {
   "cell_type": "code",
   "execution_count": 6,
   "metadata": {},
   "outputs": [
    {
     "name": "stdout",
     "output_type": "stream",
     "text": [
      "9.869604401089358\t9.869596300201396\n"
     ]
    }
   ],
   "source": [
    "function test()\n",
    "    V(x)=0\n",
    "    N=1000\n",
    "    L=1\n",
    "    H=make_H(N,L,V)\n",
    "    e,v=eigen(H)\n",
    "    e0=zeros(Float64,N)\n",
    "    for n=1:N\n",
    "        e0[n]=n^2*π^2/L^2\n",
    "    end\n",
    "    plot(1:N,[e,e0],\n",
    "        labels=[\"Numerical result\" \"Analytical result\"],\n",
    "        xlabel=\"n\",\n",
    "        ylabel=\"energy\")\n",
    "        savefig(\"eigen.png\")\n",
    "        println(e0[1],\"\\t\",e[1])\n",
    "end\n",
    "test()"
   ]
  },
  {
   "cell_type": "code",
   "execution_count": 11,
   "metadata": {},
   "outputs": [],
   "source": [
    "function test2()\n",
    "    V(x) = 0\n",
    "    N = 1000\n",
    "    L = 1\n",
    "    H = make_H(N,L,V)\n",
    "    e,v = eigen(H)\n",
    "\n",
    "    Δx = L/(N+1)\n",
    "    xs = zeros(Float64,N)\n",
    "    ψ0 = zeros(Float64,N)\n",
    "    ψ250 = similar(ψ0)\n",
    "    n = 1\n",
    "    m = 250\n",
    "    for i=1:N\n",
    "        x = i*Δx\n",
    "        xs[i] = x\n",
    "        ψ0[i] = sqrt(2/L)*sin(x*n*π/L)\n",
    "        ψ250[i] = sqrt(2/L)*sin(x*m*π/L)\n",
    "    end\n",
    "    coeff = 1/sqrt(Δx)\n",
    "\n",
    "    plot(xs,coeff*v[:,n],label=\"Numerical result n=1\",xlabel=\"x\",ylabel=\"psi(x)\")\n",
    "    plot!(xs,coeff*v[:,m],label=\"Numerical result n=250\",xlabel=\"x\",ylabel=\"psi(x)\")\n",
    "    plot!(xs,ψ0,label=\"Analytical result n=1\",xlabel=\"x\",ylabel=\"psi(x)\")\n",
    "    plot!(xs,ψ250,label=\"Analytical result n=250\",xlabel=\"x\",ylabel=\"psi(x)\")\n",
    "    savefig(\"psi.png\")\n",
    "end\n",
    "test2()"
   ]
  },
  {
   "cell_type": "code",
   "execution_count": 10,
   "metadata": {},
   "outputs": [],
   "source": [
    "function test2()\n",
    "    V(x) = 0\n",
    "    N = 1000\n",
    "    L = 1\n",
    "    H = make_H(N,L,V)\n",
    "    e,v = eigen(H)\n",
    "    \n",
    "    Δx = L/(N+1)\n",
    "    xs = zeros(Float64,N)\n",
    "    ψ0 = zeros(Float64,N)\n",
    "    ψ250 = similar(ψ0)\n",
    "    n = 1\n",
    "    m = 250\n",
    "    for i=1:N\n",
    "        x = i*Δx\n",
    "        xs[i] = x\n",
    "        ψ0[i] = sqrt(2/L)*sin(x*n*π/L)\n",
    "        ψ250[i] = sqrt(2/L)*sin(x*m*π/L)\n",
    "    end\n",
    "    coeff = 1/sqrt(Δx)\n",
    "    \n",
    "    plot(xs,coeff*v[:,n],label=\"Numerical result n=1\",xlabel=\"x\",ylabel=\"psi(x)\")\n",
    "    plot!(xs,ψ0,label=\"Analytical result n=1\",xlabel=\"x\",ylabel=\"psi(x)\")\n",
    "    plot!(xs,coeff*v[:,m],label=\"Numerical result n=250\",xlabel=\"x\",ylabel=\"psi(x)\")\n",
    "    plot!(xs,ψ250,label=\"Analytical result n=250\",xlabel=\"x\",ylabel=\"psi(x)\")\n",
    "    savefig(\"psi.png\")\n",
    "end\n",
    "test2()"
   ]
  },
  {
   "cell_type": "code",
   "execution_count": null,
   "metadata": {},
   "outputs": [],
   "source": []
  }
 ],
 "metadata": {
  "kernelspec": {
   "display_name": "Julia 1.8.0",
   "language": "julia",
   "name": "julia-1.8"
  },
  "language_info": {
   "file_extension": ".jl",
   "mimetype": "application/julia",
   "name": "julia",
   "version": "1.8.0"
  },
  "orig_nbformat": 4
 },
 "nbformat": 4,
 "nbformat_minor": 2
}
