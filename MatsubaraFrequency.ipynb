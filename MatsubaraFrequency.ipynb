{
 "cells": [
  {
   "cell_type": "code",
   "execution_count": 7,
   "metadata": {},
   "outputs": [
    {
     "data": {
      "text/plain": [
       "-1.0:0.2222222222222222:1.0"
      ]
     },
     "execution_count": 7,
     "metadata": {},
     "output_type": "execute_result"
    }
   ],
   "source": [
    "function g(x,T,nmax;τ=0.01)\n",
    "    a = 0im\n",
    "    for n=-nmax:nmax\n",
    "        ωn = pi*T*(2n+1)\n",
    "        a += exp(im*ωn*τ)/(im*ωn-x)\n",
    "    end\n",
    "    return real(a*T)\n",
    "end\n",
    "xs = range(-1,1,length=10)\n"
   ]
  },
  {
   "cell_type": "code",
   "execution_count": 8,
   "metadata": {},
   "outputs": [
    {
     "name": "stdout",
     "output_type": "stream",
     "text": [
      "-1.0\t0.989498288411415\t0.9999546021312976\n",
      "-0.7777777777777778\t0.9913302694409194\t0.9995812333155556\n",
      "-0.5555555555555556\t0.990123551768255\t0.9961489676440697\n",
      "-0.3333333333333333\t0.9618350473721775\t0.9655548043337887\n",
      "-0.1111111111111111\t0.7509941347989852\t0.7523361988609284\n",
      "0.1111111111111111\t0.24743253689074113\t0.24766380113907163\n",
      "0.3333333333333333\t0.03405360537506296\t0.03444519566621118\n",
      "0.5555555555555556\t0.0033658873349129608\t0.003851032355930255\n",
      "0.7777777777777778\t-8.45627268651121e-5\t0.0004187666844443735\n",
      "1.0\t-0.0004607450598311099\t4.5397868702434395e-5\n"
     ]
    }
   ],
   "source": [
    "T = 0.1\n",
    "nmax = 100000\n",
    "for i=1:10\n",
    "    println(xs[i],\"\\t\",g(xs[i],T,nmax),\"\\t\",1/(exp(xs[i]/T)+1))\n",
    "end"
   ]
  },
  {
   "cell_type": "code",
   "execution_count": null,
   "metadata": {},
   "outputs": [],
   "source": []
  }
 ],
 "metadata": {
  "kernelspec": {
   "display_name": "Julia 1.8.0",
   "language": "julia",
   "name": "julia-1.8"
  },
  "language_info": {
   "file_extension": ".jl",
   "mimetype": "application/julia",
   "name": "julia",
   "version": "1.8.0"
  },
  "orig_nbformat": 4
 },
 "nbformat": 4,
 "nbformat_minor": 2
}
